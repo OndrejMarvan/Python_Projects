{
 "cells": [
  {
   "cell_type": "code",
   "execution_count": 1,
   "id": "2da99cd5",
   "metadata": {
    "_cell_guid": "b1076dfc-b9ad-4769-8c92-a6c4dae69d19",
    "_uuid": "8f2839f25d086af736a60e9eeb907d3b93b6e0e5",
    "execution": {
     "iopub.execute_input": "2022-12-21T18:25:46.773938Z",
     "iopub.status.busy": "2022-12-21T18:25:46.772897Z",
     "iopub.status.idle": "2022-12-21T18:25:46.791752Z",
     "shell.execute_reply": "2022-12-21T18:25:46.790366Z"
    },
    "papermill": {
     "duration": 0.036441,
     "end_time": "2022-12-21T18:25:46.795673",
     "exception": false,
     "start_time": "2022-12-21T18:25:46.759232",
     "status": "completed"
    },
    "tags": []
   },
   "outputs": [
    {
     "name": "stdout",
     "output_type": "stream",
     "text": [
      "/kaggle/input/titanic/train.csv\n",
      "/kaggle/input/titanic/test.csv\n",
      "/kaggle/input/titanic/gender_submission.csv\n"
     ]
    }
   ],
   "source": [
    "# This Python 3 environment comes with many helpful analytics libraries installed\n",
    "# It is defined by the kaggle/python Docker image: https://github.com/kaggle/docker-python\n",
    "# For example, here's several helpful packages to load\n",
    "\n",
    "import numpy as np # linear algebra\n",
    "import pandas as pd # data processing, CSV file I/O (e.g. pd.read_csv)\n",
    "\n",
    "# Input data files are available in the read-only \"../input/\" directory\n",
    "# For example, running this (by clicking run or pressing Shift+Enter) will list all files under the input directory\n",
    "\n",
    "import os\n",
    "for dirname, _, filenames in os.walk('/kaggle/input'):\n",
    "    for filename in filenames:\n",
    "        print(os.path.join(dirname, filename))\n",
    "\n",
    "# You can write up to 20GB to the current directory (/kaggle/working/) that gets preserved as output when you create a version using \"Save & Run All\" \n",
    "# You can also write temporary files to /kaggle/temp/, but they won't be saved outside of the current session"
   ]
  },
  {
   "cell_type": "markdown",
   "id": "f8319f45",
   "metadata": {
    "papermill": {
     "duration": 0.010741,
     "end_time": "2022-12-21T18:25:46.818706",
     "exception": false,
     "start_time": "2022-12-21T18:25:46.807965",
     "status": "completed"
    },
    "tags": []
   },
   "source": [
    "Import all the Required Libraries. "
   ]
  },
  {
   "cell_type": "markdown",
   "id": "4e66e8f4",
   "metadata": {
    "papermill": {
     "duration": 0.009964,
     "end_time": "2022-12-21T18:25:46.839513",
     "exception": false,
     "start_time": "2022-12-21T18:25:46.829549",
     "status": "completed"
    },
    "tags": []
   },
   "source": [
    "# **Reading Data**"
   ]
  },
  {
   "cell_type": "markdown",
   "id": "7a86209a",
   "metadata": {
    "papermill": {
     "duration": 0.00995,
     "end_time": "2022-12-21T18:25:46.859718",
     "exception": false,
     "start_time": "2022-12-21T18:25:46.849768",
     "status": "completed"
    },
    "tags": []
   },
   "source": [
    "Above code cell by default attached in notebook for preliminary setup.so the very first step to read data(train and test data both).for this purpose we use pandas library."
   ]
  },
  {
   "cell_type": "code",
   "execution_count": 2,
   "id": "56002400",
   "metadata": {
    "execution": {
     "iopub.execute_input": "2022-12-21T18:25:46.885866Z",
     "iopub.status.busy": "2022-12-21T18:25:46.884275Z",
     "iopub.status.idle": "2022-12-21T18:25:46.919811Z",
     "shell.execute_reply": "2022-12-21T18:25:46.918503Z"
    },
    "papermill": {
     "duration": 0.050745,
     "end_time": "2022-12-21T18:25:46.922633",
     "exception": false,
     "start_time": "2022-12-21T18:25:46.871888",
     "status": "completed"
    },
    "tags": []
   },
   "outputs": [],
   "source": [
    "# Load the train and test data \n",
    "\n",
    "df_train = pd.read_csv('../input/titanic/train.csv')\n",
    "df_test = pd.read_csv('../input/titanic/test.csv')"
   ]
  },
  {
   "cell_type": "markdown",
   "id": "e5a75d7d",
   "metadata": {
    "papermill": {
     "duration": 0.010696,
     "end_time": "2022-12-21T18:25:46.944282",
     "exception": false,
     "start_time": "2022-12-21T18:25:46.933586",
     "status": "completed"
    },
    "tags": []
   },
   "source": [
    "To get a overview about the data by viewing the first 5 rows. Below line of code will result first five row."
   ]
  },
  {
   "cell_type": "code",
   "execution_count": 3,
   "id": "6b2b59af",
   "metadata": {
    "execution": {
     "iopub.execute_input": "2022-12-21T18:25:46.966835Z",
     "iopub.status.busy": "2022-12-21T18:25:46.966393Z",
     "iopub.status.idle": "2022-12-21T18:25:46.993411Z",
     "shell.execute_reply": "2022-12-21T18:25:46.992183Z"
    },
    "papermill": {
     "duration": 0.041477,
     "end_time": "2022-12-21T18:25:46.996023",
     "exception": false,
     "start_time": "2022-12-21T18:25:46.954546",
     "status": "completed"
    },
    "tags": []
   },
   "outputs": [
    {
     "data": {
      "text/html": [
       "<div>\n",
       "<style scoped>\n",
       "    .dataframe tbody tr th:only-of-type {\n",
       "        vertical-align: middle;\n",
       "    }\n",
       "\n",
       "    .dataframe tbody tr th {\n",
       "        vertical-align: top;\n",
       "    }\n",
       "\n",
       "    .dataframe thead th {\n",
       "        text-align: right;\n",
       "    }\n",
       "</style>\n",
       "<table border=\"1\" class=\"dataframe\">\n",
       "  <thead>\n",
       "    <tr style=\"text-align: right;\">\n",
       "      <th></th>\n",
       "      <th>PassengerId</th>\n",
       "      <th>Survived</th>\n",
       "      <th>Pclass</th>\n",
       "      <th>Name</th>\n",
       "      <th>Sex</th>\n",
       "      <th>Age</th>\n",
       "      <th>SibSp</th>\n",
       "      <th>Parch</th>\n",
       "      <th>Ticket</th>\n",
       "      <th>Fare</th>\n",
       "      <th>Cabin</th>\n",
       "      <th>Embarked</th>\n",
       "    </tr>\n",
       "  </thead>\n",
       "  <tbody>\n",
       "    <tr>\n",
       "      <th>0</th>\n",
       "      <td>1</td>\n",
       "      <td>0</td>\n",
       "      <td>3</td>\n",
       "      <td>Braund, Mr. Owen Harris</td>\n",
       "      <td>male</td>\n",
       "      <td>22.0</td>\n",
       "      <td>1</td>\n",
       "      <td>0</td>\n",
       "      <td>A/5 21171</td>\n",
       "      <td>7.2500</td>\n",
       "      <td>NaN</td>\n",
       "      <td>S</td>\n",
       "    </tr>\n",
       "    <tr>\n",
       "      <th>1</th>\n",
       "      <td>2</td>\n",
       "      <td>1</td>\n",
       "      <td>1</td>\n",
       "      <td>Cumings, Mrs. John Bradley (Florence Briggs Th...</td>\n",
       "      <td>female</td>\n",
       "      <td>38.0</td>\n",
       "      <td>1</td>\n",
       "      <td>0</td>\n",
       "      <td>PC 17599</td>\n",
       "      <td>71.2833</td>\n",
       "      <td>C85</td>\n",
       "      <td>C</td>\n",
       "    </tr>\n",
       "    <tr>\n",
       "      <th>2</th>\n",
       "      <td>3</td>\n",
       "      <td>1</td>\n",
       "      <td>3</td>\n",
       "      <td>Heikkinen, Miss. Laina</td>\n",
       "      <td>female</td>\n",
       "      <td>26.0</td>\n",
       "      <td>0</td>\n",
       "      <td>0</td>\n",
       "      <td>STON/O2. 3101282</td>\n",
       "      <td>7.9250</td>\n",
       "      <td>NaN</td>\n",
       "      <td>S</td>\n",
       "    </tr>\n",
       "    <tr>\n",
       "      <th>3</th>\n",
       "      <td>4</td>\n",
       "      <td>1</td>\n",
       "      <td>1</td>\n",
       "      <td>Futrelle, Mrs. Jacques Heath (Lily May Peel)</td>\n",
       "      <td>female</td>\n",
       "      <td>35.0</td>\n",
       "      <td>1</td>\n",
       "      <td>0</td>\n",
       "      <td>113803</td>\n",
       "      <td>53.1000</td>\n",
       "      <td>C123</td>\n",
       "      <td>S</td>\n",
       "    </tr>\n",
       "    <tr>\n",
       "      <th>4</th>\n",
       "      <td>5</td>\n",
       "      <td>0</td>\n",
       "      <td>3</td>\n",
       "      <td>Allen, Mr. William Henry</td>\n",
       "      <td>male</td>\n",
       "      <td>35.0</td>\n",
       "      <td>0</td>\n",
       "      <td>0</td>\n",
       "      <td>373450</td>\n",
       "      <td>8.0500</td>\n",
       "      <td>NaN</td>\n",
       "      <td>S</td>\n",
       "    </tr>\n",
       "  </tbody>\n",
       "</table>\n",
       "</div>"
      ],
      "text/plain": [
       "   PassengerId  Survived  Pclass  \\\n",
       "0            1         0       3   \n",
       "1            2         1       1   \n",
       "2            3         1       3   \n",
       "3            4         1       1   \n",
       "4            5         0       3   \n",
       "\n",
       "                                                Name     Sex   Age  SibSp  \\\n",
       "0                            Braund, Mr. Owen Harris    male  22.0      1   \n",
       "1  Cumings, Mrs. John Bradley (Florence Briggs Th...  female  38.0      1   \n",
       "2                             Heikkinen, Miss. Laina  female  26.0      0   \n",
       "3       Futrelle, Mrs. Jacques Heath (Lily May Peel)  female  35.0      1   \n",
       "4                           Allen, Mr. William Henry    male  35.0      0   \n",
       "\n",
       "   Parch            Ticket     Fare Cabin Embarked  \n",
       "0      0         A/5 21171   7.2500   NaN        S  \n",
       "1      0          PC 17599  71.2833   C85        C  \n",
       "2      0  STON/O2. 3101282   7.9250   NaN        S  \n",
       "3      0            113803  53.1000  C123        S  \n",
       "4      0            373450   8.0500   NaN        S  "
      ]
     },
     "execution_count": 3,
     "metadata": {},
     "output_type": "execute_result"
    }
   ],
   "source": [
    "# first five data rows \n",
    "\n",
    "df_train.head()"
   ]
  },
  {
   "cell_type": "markdown",
   "id": "4f34c636",
   "metadata": {
    "papermill": {
     "duration": 0.011598,
     "end_time": "2022-12-21T18:25:47.018548",
     "exception": false,
     "start_time": "2022-12-21T18:25:47.006950",
     "status": "completed"
    },
    "tags": []
   },
   "source": [
    "below code will give you the statistics description of data i.e. mean,medain,mode,deviation etc."
   ]
  },
  {
   "cell_type": "code",
   "execution_count": 4,
   "id": "206803c6",
   "metadata": {
    "execution": {
     "iopub.execute_input": "2022-12-21T18:25:47.042932Z",
     "iopub.status.busy": "2022-12-21T18:25:47.041782Z",
     "iopub.status.idle": "2022-12-21T18:25:47.090117Z",
     "shell.execute_reply": "2022-12-21T18:25:47.088824Z"
    },
    "papermill": {
     "duration": 0.062967,
     "end_time": "2022-12-21T18:25:47.092710",
     "exception": false,
     "start_time": "2022-12-21T18:25:47.029743",
     "status": "completed"
    },
    "tags": []
   },
   "outputs": [
    {
     "data": {
      "text/html": [
       "<div>\n",
       "<style scoped>\n",
       "    .dataframe tbody tr th:only-of-type {\n",
       "        vertical-align: middle;\n",
       "    }\n",
       "\n",
       "    .dataframe tbody tr th {\n",
       "        vertical-align: top;\n",
       "    }\n",
       "\n",
       "    .dataframe thead th {\n",
       "        text-align: right;\n",
       "    }\n",
       "</style>\n",
       "<table border=\"1\" class=\"dataframe\">\n",
       "  <thead>\n",
       "    <tr style=\"text-align: right;\">\n",
       "      <th></th>\n",
       "      <th>PassengerId</th>\n",
       "      <th>Survived</th>\n",
       "      <th>Pclass</th>\n",
       "      <th>Age</th>\n",
       "      <th>SibSp</th>\n",
       "      <th>Parch</th>\n",
       "      <th>Fare</th>\n",
       "    </tr>\n",
       "  </thead>\n",
       "  <tbody>\n",
       "    <tr>\n",
       "      <th>count</th>\n",
       "      <td>891.000000</td>\n",
       "      <td>891.000000</td>\n",
       "      <td>891.000000</td>\n",
       "      <td>714.000000</td>\n",
       "      <td>891.000000</td>\n",
       "      <td>891.000000</td>\n",
       "      <td>891.000000</td>\n",
       "    </tr>\n",
       "    <tr>\n",
       "      <th>mean</th>\n",
       "      <td>446.000000</td>\n",
       "      <td>0.383838</td>\n",
       "      <td>2.308642</td>\n",
       "      <td>29.699118</td>\n",
       "      <td>0.523008</td>\n",
       "      <td>0.381594</td>\n",
       "      <td>32.204208</td>\n",
       "    </tr>\n",
       "    <tr>\n",
       "      <th>std</th>\n",
       "      <td>257.353842</td>\n",
       "      <td>0.486592</td>\n",
       "      <td>0.836071</td>\n",
       "      <td>14.526497</td>\n",
       "      <td>1.102743</td>\n",
       "      <td>0.806057</td>\n",
       "      <td>49.693429</td>\n",
       "    </tr>\n",
       "    <tr>\n",
       "      <th>min</th>\n",
       "      <td>1.000000</td>\n",
       "      <td>0.000000</td>\n",
       "      <td>1.000000</td>\n",
       "      <td>0.420000</td>\n",
       "      <td>0.000000</td>\n",
       "      <td>0.000000</td>\n",
       "      <td>0.000000</td>\n",
       "    </tr>\n",
       "    <tr>\n",
       "      <th>25%</th>\n",
       "      <td>223.500000</td>\n",
       "      <td>0.000000</td>\n",
       "      <td>2.000000</td>\n",
       "      <td>20.125000</td>\n",
       "      <td>0.000000</td>\n",
       "      <td>0.000000</td>\n",
       "      <td>7.910400</td>\n",
       "    </tr>\n",
       "    <tr>\n",
       "      <th>50%</th>\n",
       "      <td>446.000000</td>\n",
       "      <td>0.000000</td>\n",
       "      <td>3.000000</td>\n",
       "      <td>28.000000</td>\n",
       "      <td>0.000000</td>\n",
       "      <td>0.000000</td>\n",
       "      <td>14.454200</td>\n",
       "    </tr>\n",
       "    <tr>\n",
       "      <th>75%</th>\n",
       "      <td>668.500000</td>\n",
       "      <td>1.000000</td>\n",
       "      <td>3.000000</td>\n",
       "      <td>38.000000</td>\n",
       "      <td>1.000000</td>\n",
       "      <td>0.000000</td>\n",
       "      <td>31.000000</td>\n",
       "    </tr>\n",
       "    <tr>\n",
       "      <th>max</th>\n",
       "      <td>891.000000</td>\n",
       "      <td>1.000000</td>\n",
       "      <td>3.000000</td>\n",
       "      <td>80.000000</td>\n",
       "      <td>8.000000</td>\n",
       "      <td>6.000000</td>\n",
       "      <td>512.329200</td>\n",
       "    </tr>\n",
       "  </tbody>\n",
       "</table>\n",
       "</div>"
      ],
      "text/plain": [
       "       PassengerId    Survived      Pclass         Age       SibSp  \\\n",
       "count   891.000000  891.000000  891.000000  714.000000  891.000000   \n",
       "mean    446.000000    0.383838    2.308642   29.699118    0.523008   \n",
       "std     257.353842    0.486592    0.836071   14.526497    1.102743   \n",
       "min       1.000000    0.000000    1.000000    0.420000    0.000000   \n",
       "25%     223.500000    0.000000    2.000000   20.125000    0.000000   \n",
       "50%     446.000000    0.000000    3.000000   28.000000    0.000000   \n",
       "75%     668.500000    1.000000    3.000000   38.000000    1.000000   \n",
       "max     891.000000    1.000000    3.000000   80.000000    8.000000   \n",
       "\n",
       "            Parch        Fare  \n",
       "count  891.000000  891.000000  \n",
       "mean     0.381594   32.204208  \n",
       "std      0.806057   49.693429  \n",
       "min      0.000000    0.000000  \n",
       "25%      0.000000    7.910400  \n",
       "50%      0.000000   14.454200  \n",
       "75%      0.000000   31.000000  \n",
       "max      6.000000  512.329200  "
      ]
     },
     "execution_count": 4,
     "metadata": {},
     "output_type": "execute_result"
    }
   ],
   "source": [
    "# To get a statistical description of Data \n",
    "\n",
    "df_train.describe()"
   ]
  },
  {
   "cell_type": "code",
   "execution_count": 5,
   "id": "77468885",
   "metadata": {
    "execution": {
     "iopub.execute_input": "2022-12-21T18:25:47.116675Z",
     "iopub.status.busy": "2022-12-21T18:25:47.116218Z",
     "iopub.status.idle": "2022-12-21T18:25:47.136039Z",
     "shell.execute_reply": "2022-12-21T18:25:47.134402Z"
    },
    "papermill": {
     "duration": 0.036165,
     "end_time": "2022-12-21T18:25:47.139743",
     "exception": false,
     "start_time": "2022-12-21T18:25:47.103578",
     "status": "completed"
    },
    "tags": []
   },
   "outputs": [
    {
     "name": "stdout",
     "output_type": "stream",
     "text": [
      "<class 'pandas.core.frame.DataFrame'>\n",
      "RangeIndex: 891 entries, 0 to 890\n",
      "Data columns (total 12 columns):\n",
      " #   Column       Non-Null Count  Dtype  \n",
      "---  ------       --------------  -----  \n",
      " 0   PassengerId  891 non-null    int64  \n",
      " 1   Survived     891 non-null    int64  \n",
      " 2   Pclass       891 non-null    int64  \n",
      " 3   Name         891 non-null    object \n",
      " 4   Sex          891 non-null    object \n",
      " 5   Age          714 non-null    float64\n",
      " 6   SibSp        891 non-null    int64  \n",
      " 7   Parch        891 non-null    int64  \n",
      " 8   Ticket       891 non-null    object \n",
      " 9   Fare         891 non-null    float64\n",
      " 10  Cabin        204 non-null    object \n",
      " 11  Embarked     889 non-null    object \n",
      "dtypes: float64(2), int64(5), object(5)\n",
      "memory usage: 83.7+ KB\n"
     ]
    }
   ],
   "source": [
    "# Get details like column name, datatype , null or not null ,memory usage\n",
    "\n",
    "df_train.info()"
   ]
  },
  {
   "cell_type": "markdown",
   "id": "dd54803b",
   "metadata": {
    "papermill": {
     "duration": 0.011984,
     "end_time": "2022-12-21T18:25:47.164789",
     "exception": false,
     "start_time": "2022-12-21T18:25:47.152805",
     "status": "completed"
    },
    "tags": []
   },
   "source": [
    "# Missing Value Analysis- Training Data"
   ]
  },
  {
   "cell_type": "markdown",
   "id": "dc108ffd",
   "metadata": {
    "papermill": {
     "duration": 0.011725,
     "end_time": "2022-12-21T18:25:47.187662",
     "exception": false,
     "start_time": "2022-12-21T18:25:47.175937",
     "status": "completed"
    },
    "tags": []
   },
   "source": [
    "**Count of Missing Values Before Analysis**"
   ]
  },
  {
   "cell_type": "code",
   "execution_count": 6,
   "id": "0f9b6f2d",
   "metadata": {
    "execution": {
     "iopub.execute_input": "2022-12-21T18:25:47.213243Z",
     "iopub.status.busy": "2022-12-21T18:25:47.212811Z",
     "iopub.status.idle": "2022-12-21T18:25:47.224867Z",
     "shell.execute_reply": "2022-12-21T18:25:47.223377Z"
    },
    "papermill": {
     "duration": 0.029606,
     "end_time": "2022-12-21T18:25:47.228155",
     "exception": false,
     "start_time": "2022-12-21T18:25:47.198549",
     "status": "completed"
    },
    "tags": []
   },
   "outputs": [
    {
     "data": {
      "text/plain": [
       "PassengerId      0\n",
       "Survived         0\n",
       "Pclass           0\n",
       "Name             0\n",
       "Sex              0\n",
       "Age            177\n",
       "SibSp            0\n",
       "Parch            0\n",
       "Ticket           0\n",
       "Fare             0\n",
       "Cabin          687\n",
       "Embarked         2\n",
       "dtype: int64"
      ]
     },
     "execution_count": 6,
     "metadata": {},
     "output_type": "execute_result"
    }
   ],
   "source": [
    "# Check which feature/column has how many null values\n",
    "\n",
    "df_train.isnull().sum()"
   ]
  },
  {
   "cell_type": "code",
   "execution_count": 7,
   "id": "fd21453b",
   "metadata": {
    "execution": {
     "iopub.execute_input": "2022-12-21T18:25:47.254653Z",
     "iopub.status.busy": "2022-12-21T18:25:47.254214Z",
     "iopub.status.idle": "2022-12-21T18:25:47.264728Z",
     "shell.execute_reply": "2022-12-21T18:25:47.262996Z"
    },
    "papermill": {
     "duration": 0.02669,
     "end_time": "2022-12-21T18:25:47.267542",
     "exception": false,
     "start_time": "2022-12-21T18:25:47.240852",
     "status": "completed"
    },
    "tags": []
   },
   "outputs": [
    {
     "name": "stdout",
     "output_type": "stream",
     "text": [
      "Percentage missing in Age :  19.865319865319865\n",
      "Percentage Missing in Cabin :  77.10437710437711\n"
     ]
    }
   ],
   "source": [
    "# percentage missing values in cabin and age feature \n",
    "# count of missing in cabin column divided by total rows count\n",
    "\n",
    "per_age = (df_train['Age'].isnull().sum())/(df_train.shape[0])*100\n",
    "per_cabin = (df_train['Cabin'].isnull().sum())/(df_train.shape[0])*100\n",
    "print(\"Percentage missing in Age : \",per_age)\n",
    "print(\"Percentage Missing in Cabin : \",per_cabin)"
   ]
  },
  {
   "cell_type": "markdown",
   "id": "22f07dc2",
   "metadata": {
    "papermill": {
     "duration": 0.012408,
     "end_time": "2022-12-21T18:25:47.292442",
     "exception": false,
     "start_time": "2022-12-21T18:25:47.280034",
     "status": "completed"
    },
    "tags": []
   },
   "source": [
    "**Drop Missing Values or if count is more then remove that feature column Itself**"
   ]
  },
  {
   "cell_type": "code",
   "execution_count": 8,
   "id": "ce92ebad",
   "metadata": {
    "execution": {
     "iopub.execute_input": "2022-12-21T18:25:47.319135Z",
     "iopub.status.busy": "2022-12-21T18:25:47.317763Z",
     "iopub.status.idle": "2022-12-21T18:25:47.324812Z",
     "shell.execute_reply": "2022-12-21T18:25:47.323920Z"
    },
    "papermill": {
     "duration": 0.022232,
     "end_time": "2022-12-21T18:25:47.327163",
     "exception": false,
     "start_time": "2022-12-21T18:25:47.304931",
     "status": "completed"
    },
    "tags": []
   },
   "outputs": [],
   "source": [
    "# take a deep copy of data using copy function\n",
    "# Deep copy are those in which original data is not changed if something changed in copy\n",
    "\n",
    "df_train = df_train.copy()\n",
    "\n",
    "# Then drop Cabin Column as it has more than 77% missing values ,axis=1 means drop column not row \n",
    "\n",
    "df_train.drop('Cabin',axis=1,inplace=True)"
   ]
  },
  {
   "cell_type": "code",
   "execution_count": 9,
   "id": "54f43cad",
   "metadata": {
    "execution": {
     "iopub.execute_input": "2022-12-21T18:25:47.352572Z",
     "iopub.status.busy": "2022-12-21T18:25:47.352139Z",
     "iopub.status.idle": "2022-12-21T18:25:47.361853Z",
     "shell.execute_reply": "2022-12-21T18:25:47.360484Z"
    },
    "papermill": {
     "duration": 0.025254,
     "end_time": "2022-12-21T18:25:47.364139",
     "exception": false,
     "start_time": "2022-12-21T18:25:47.338885",
     "status": "completed"
    },
    "tags": []
   },
   "outputs": [
    {
     "data": {
      "text/plain": [
       "S    644\n",
       "C    168\n",
       "Q     77\n",
       "Name: Embarked, dtype: int64"
      ]
     },
     "execution_count": 9,
     "metadata": {},
     "output_type": "execute_result"
    }
   ],
   "source": [
    "# Get categorywise count, means whatever unique values emabarked feature have, will get count of those\n",
    "\n",
    "df_train['Embarked'].value_counts()"
   ]
  },
  {
   "cell_type": "code",
   "execution_count": 10,
   "id": "4194f372",
   "metadata": {
    "execution": {
     "iopub.execute_input": "2022-12-21T18:25:47.391216Z",
     "iopub.status.busy": "2022-12-21T18:25:47.390020Z",
     "iopub.status.idle": "2022-12-21T18:25:47.396633Z",
     "shell.execute_reply": "2022-12-21T18:25:47.395558Z"
    },
    "papermill": {
     "duration": 0.024086,
     "end_time": "2022-12-21T18:25:47.399510",
     "exception": false,
     "start_time": "2022-12-21T18:25:47.375424",
     "status": "completed"
    },
    "tags": []
   },
   "outputs": [],
   "source": [
    "# Fill 'S' in place of missing values\n",
    "# Why 'S'?? - Because As per above output 'S' has too more count than 'C' and 'Q'.\n",
    "# if these are numerical data either we can put average values in place.\n",
    "# But here we have categorical, so we can't take average\n",
    "\n",
    "df_train['Embarked'].fillna('S',inplace=True)"
   ]
  },
  {
   "cell_type": "code",
   "execution_count": 11,
   "id": "e2cd335e",
   "metadata": {
    "execution": {
     "iopub.execute_input": "2022-12-21T18:25:47.426931Z",
     "iopub.status.busy": "2022-12-21T18:25:47.426088Z",
     "iopub.status.idle": "2022-12-21T18:25:49.166773Z",
     "shell.execute_reply": "2022-12-21T18:25:49.165764Z"
    },
    "papermill": {
     "duration": 1.756243,
     "end_time": "2022-12-21T18:25:49.169125",
     "exception": false,
     "start_time": "2022-12-21T18:25:47.412882",
     "status": "completed"
    },
    "tags": []
   },
   "outputs": [
    {
     "data": {
      "text/plain": [
       "<AxesSubplot:xlabel='Age', ylabel='Count'>"
      ]
     },
     "execution_count": 11,
     "metadata": {},
     "output_type": "execute_result"
    },
    {
     "data": {
      "image/png": "[encoded data removed]",
      "text/plain": [
       "<Figure size 936x432 with 1 Axes>"
      ]
     },
     "metadata": {},
     "output_type": "display_data"
    }
   ],
   "source": [
    "import seaborn as sns  # library using for plots\n",
    "import matplotlib.pyplot as plt\n",
    "sns.set_style('whitegrid') # To make a background as a grid with white color\n",
    "plt.figure(figsize=(13,6))\n",
    "\n",
    "# plot a historgram with 80 bins so that we can visualize the count for each age(from 1 to 80)\n",
    "sns.histplot(df_train['Age'],kde=False,bins=80,color='red')"
   ]
  },
  {
   "cell_type": "code",
   "execution_count": 12,
   "id": "f5584434",
   "metadata": {
    "execution": {
     "iopub.execute_input": "2022-12-21T18:25:49.195526Z",
     "iopub.status.busy": "2022-12-21T18:25:49.194814Z",
     "iopub.status.idle": "2022-12-21T18:25:49.200853Z",
     "shell.execute_reply": "2022-12-21T18:25:49.199941Z"
    },
    "papermill": {
     "duration": 0.023137,
     "end_time": "2022-12-21T18:25:49.204791",
     "exception": false,
     "start_time": "2022-12-21T18:25:49.181654",
     "status": "completed"
    },
    "tags": []
   },
   "outputs": [],
   "source": [
    "# This is a numerical data so that either we can fill missing values with mean or median of Age col \n",
    "# Here we are filling median in place of missing values \n",
    "\n",
    "df_train['Age'].fillna(df_train['Age'].median(),inplace=True)"
   ]
  },
  {
   "cell_type": "markdown",
   "id": "00cfbd0c",
   "metadata": {
    "papermill": {
     "duration": 0.011877,
     "end_time": "2022-12-21T18:25:49.229927",
     "exception": false,
     "start_time": "2022-12-21T18:25:49.218050",
     "status": "completed"
    },
    "tags": []
   },
   "source": [
    "**Count of Missing Values After Analysis**"
   ]
  },
  {
   "cell_type": "code",
   "execution_count": 13,
   "id": "a692d163",
   "metadata": {
    "execution": {
     "iopub.execute_input": "2022-12-21T18:25:49.256315Z",
     "iopub.status.busy": "2022-12-21T18:25:49.255171Z",
     "iopub.status.idle": "2022-12-21T18:25:49.265029Z",
     "shell.execute_reply": "2022-12-21T18:25:49.263864Z"
    },
    "papermill": {
     "duration": 0.026039,
     "end_time": "2022-12-21T18:25:49.267712",
     "exception": false,
     "start_time": "2022-12-21T18:25:49.241673",
     "status": "completed"
    },
    "tags": []
   },
   "outputs": [
    {
     "data": {
      "text/plain": [
       "PassengerId    0\n",
       "Survived       0\n",
       "Pclass         0\n",
       "Name           0\n",
       "Sex            0\n",
       "Age            0\n",
       "SibSp          0\n",
       "Parch          0\n",
       "Ticket         0\n",
       "Fare           0\n",
       "Embarked       0\n",
       "dtype: int64"
      ]
     },
     "execution_count": 13,
     "metadata": {},
     "output_type": "execute_result"
    }
   ],
   "source": [
    "df_train.isnull().sum()\n",
    "# Count of missing values in all columns is now zero."
   ]
  },
  {
   "cell_type": "markdown",
   "id": "4a633ab6",
   "metadata": {
    "papermill": {
     "duration": 0.011836,
     "end_time": "2022-12-21T18:25:49.291379",
     "exception": false,
     "start_time": "2022-12-21T18:25:49.279543",
     "status": "completed"
    },
    "tags": []
   },
   "source": [
    "**Create New Feature TravelAlone**\n",
    "\n",
    "* SibSp - It is number of siblings/spouses with passenger\n",
    "* Parch - It is number of parents/children with passenger\n",
    "\n",
    "* Just to reduce number of features,we can make single feature which is TravelAlone \n",
    "* Add value of SibSp and Parch column \n",
    "* If value is is more than 0 ,Put 1 in corresponding cell of TravelAlone\n",
    "* If value is not more than zero ,Put 0 in Corresponding cell of TravelAlone \n"
   ]
  },
  {
   "cell_type": "code",
   "execution_count": 14,
   "id": "8bf274f6",
   "metadata": {
    "execution": {
     "iopub.execute_input": "2022-12-21T18:25:49.319013Z",
     "iopub.status.busy": "2022-12-21T18:25:49.317893Z",
     "iopub.status.idle": "2022-12-21T18:25:49.329054Z",
     "shell.execute_reply": "2022-12-21T18:25:49.327792Z"
    },
    "papermill": {
     "duration": 0.027861,
     "end_time": "2022-12-21T18:25:49.331742",
     "exception": false,
     "start_time": "2022-12-21T18:25:49.303881",
     "status": "completed"
    },
    "tags": []
   },
   "outputs": [],
   "source": [
    "# Create new feature TravelAlone\n",
    "df_train['TravelAlone'] = np.where((df_train['SibSp']+df_train['Parch']) > 0, 0,1)\n",
    "\n",
    "# As we have created TravelAlone, drop both columns SibSp and Parch\n",
    "df_train.drop('SibSp',axis=1,inplace=True)\n",
    "df_train.drop('Parch',axis=1,inplace=True)"
   ]
  },
  {
   "cell_type": "markdown",
   "id": "889699ff",
   "metadata": {
    "papermill": {
     "duration": 0.012131,
     "end_time": "2022-12-21T18:25:49.357544",
     "exception": false,
     "start_time": "2022-12-21T18:25:49.345413",
     "status": "completed"
    },
    "tags": []
   },
   "source": [
    "**Dummy Encoding :** It is a concept of changing categroical variable to numeric variable. As an example ,if we have Sex column which has values 'M' for Male and 'F' for female. We can not train or process M and F characters with other numrical data.We need to convert it into numerical values.For this conversion we use Dummy Encoding Technique. \n",
    "\n",
    "* It will make Two columns for Sex feature - one is Sex_male other is Sex_female.\n",
    "* Algorithm will put 1 in sex_male column if value is 'M' in Sex column and 0 if 'F' in Sex column.\n",
    "* Vice-versa process will follow for Sex-female column as well."
   ]
  },
  {
   "cell_type": "code",
   "execution_count": 15,
   "id": "d6a77d4f",
   "metadata": {
    "execution": {
     "iopub.execute_input": "2022-12-21T18:25:49.384375Z",
     "iopub.status.busy": "2022-12-21T18:25:49.383553Z",
     "iopub.status.idle": "2022-12-21T18:25:49.415720Z",
     "shell.execute_reply": "2022-12-21T18:25:49.414358Z"
    },
    "papermill": {
     "duration": 0.048366,
     "end_time": "2022-12-21T18:25:49.418377",
     "exception": false,
     "start_time": "2022-12-21T18:25:49.370011",
     "status": "completed"
    },
    "tags": []
   },
   "outputs": [
    {
     "data": {
      "text/html": [
       "<div>\n",
       "<style scoped>\n",
       "    .dataframe tbody tr th:only-of-type {\n",
       "        vertical-align: middle;\n",
       "    }\n",
       "\n",
       "    .dataframe tbody tr th {\n",
       "        vertical-align: top;\n",
       "    }\n",
       "\n",
       "    .dataframe thead th {\n",
       "        text-align: right;\n",
       "    }\n",
       "</style>\n",
       "<table border=\"1\" class=\"dataframe\">\n",
       "  <thead>\n",
       "    <tr style=\"text-align: right;\">\n",
       "      <th></th>\n",
       "      <th>Survived</th>\n",
       "      <th>Age</th>\n",
       "      <th>Fare</th>\n",
       "      <th>TravelAlone</th>\n",
       "      <th>Pclass_1</th>\n",
       "      <th>Pclass_2</th>\n",
       "      <th>Pclass_3</th>\n",
       "      <th>Sex_male</th>\n",
       "      <th>Embarked_C</th>\n",
       "      <th>Embarked_Q</th>\n",
       "      <th>Embarked_S</th>\n",
       "    </tr>\n",
       "  </thead>\n",
       "  <tbody>\n",
       "    <tr>\n",
       "      <th>0</th>\n",
       "      <td>0</td>\n",
       "      <td>22.0</td>\n",
       "      <td>7.2500</td>\n",
       "      <td>0</td>\n",
       "      <td>0</td>\n",
       "      <td>0</td>\n",
       "      <td>1</td>\n",
       "      <td>1</td>\n",
       "      <td>0</td>\n",
       "      <td>0</td>\n",
       "      <td>1</td>\n",
       "    </tr>\n",
       "    <tr>\n",
       "      <th>1</th>\n",
       "      <td>1</td>\n",
       "      <td>38.0</td>\n",
       "      <td>71.2833</td>\n",
       "      <td>0</td>\n",
       "      <td>1</td>\n",
       "      <td>0</td>\n",
       "      <td>0</td>\n",
       "      <td>0</td>\n",
       "      <td>1</td>\n",
       "      <td>0</td>\n",
       "      <td>0</td>\n",
       "    </tr>\n",
       "    <tr>\n",
       "      <th>2</th>\n",
       "      <td>1</td>\n",
       "      <td>26.0</td>\n",
       "      <td>7.9250</td>\n",
       "      <td>1</td>\n",
       "      <td>0</td>\n",
       "      <td>0</td>\n",
       "      <td>1</td>\n",
       "      <td>0</td>\n",
       "      <td>0</td>\n",
       "      <td>0</td>\n",
       "      <td>1</td>\n",
       "    </tr>\n",
       "    <tr>\n",
       "      <th>3</th>\n",
       "      <td>1</td>\n",
       "      <td>35.0</td>\n",
       "      <td>53.1000</td>\n",
       "      <td>0</td>\n",
       "      <td>1</td>\n",
       "      <td>0</td>\n",
       "      <td>0</td>\n",
       "      <td>0</td>\n",
       "      <td>0</td>\n",
       "      <td>0</td>\n",
       "      <td>1</td>\n",
       "    </tr>\n",
       "    <tr>\n",
       "      <th>4</th>\n",
       "      <td>0</td>\n",
       "      <td>35.0</td>\n",
       "      <td>8.0500</td>\n",
       "      <td>1</td>\n",
       "      <td>0</td>\n",
       "      <td>0</td>\n",
       "      <td>1</td>\n",
       "      <td>1</td>\n",
       "      <td>0</td>\n",
       "      <td>0</td>\n",
       "      <td>1</td>\n",
       "    </tr>\n",
       "    <tr>\n",
       "      <th>...</th>\n",
       "      <td>...</td>\n",
       "      <td>...</td>\n",
       "      <td>...</td>\n",
       "      <td>...</td>\n",
       "      <td>...</td>\n",
       "      <td>...</td>\n",
       "      <td>...</td>\n",
       "      <td>...</td>\n",
       "      <td>...</td>\n",
       "      <td>...</td>\n",
       "      <td>...</td>\n",
       "    </tr>\n",
       "    <tr>\n",
       "      <th>886</th>\n",
       "      <td>0</td>\n",
       "      <td>27.0</td>\n",
       "      <td>13.0000</td>\n",
       "      <td>1</td>\n",
       "      <td>0</td>\n",
       "      <td>1</td>\n",
       "      <td>0</td>\n",
       "      <td>1</td>\n",
       "      <td>0</td>\n",
       "      <td>0</td>\n",
       "      <td>1</td>\n",
       "    </tr>\n",
       "    <tr>\n",
       "      <th>887</th>\n",
       "      <td>1</td>\n",
       "      <td>19.0</td>\n",
       "      <td>30.0000</td>\n",
       "      <td>1</td>\n",
       "      <td>1</td>\n",
       "      <td>0</td>\n",
       "      <td>0</td>\n",
       "      <td>0</td>\n",
       "      <td>0</td>\n",
       "      <td>0</td>\n",
       "      <td>1</td>\n",
       "    </tr>\n",
       "    <tr>\n",
       "      <th>888</th>\n",
       "      <td>0</td>\n",
       "      <td>28.0</td>\n",
       "      <td>23.4500</td>\n",
       "      <td>0</td>\n",
       "      <td>0</td>\n",
       "      <td>0</td>\n",
       "      <td>1</td>\n",
       "      <td>0</td>\n",
       "      <td>0</td>\n",
       "      <td>0</td>\n",
       "      <td>1</td>\n",
       "    </tr>\n",
       "    <tr>\n",
       "      <th>889</th>\n",
       "      <td>1</td>\n",
       "      <td>26.0</td>\n",
       "      <td>30.0000</td>\n",
       "      <td>1</td>\n",
       "      <td>1</td>\n",
       "      <td>0</td>\n",
       "      <td>0</td>\n",
       "      <td>1</td>\n",
       "      <td>1</td>\n",
       "      <td>0</td>\n",
       "      <td>0</td>\n",
       "    </tr>\n",
       "    <tr>\n",
       "      <th>890</th>\n",
       "      <td>0</td>\n",
       "      <td>32.0</td>\n",
       "      <td>7.7500</td>\n",
       "      <td>1</td>\n",
       "      <td>0</td>\n",
       "      <td>0</td>\n",
       "      <td>1</td>\n",
       "      <td>1</td>\n",
       "      <td>0</td>\n",
       "      <td>1</td>\n",
       "      <td>0</td>\n",
       "    </tr>\n",
       "  </tbody>\n",
       "</table>\n",
       "<p>891 rows × 11 columns</p>\n",
       "</div>"
      ],
      "text/plain": [
       "     Survived   Age     Fare  TravelAlone  Pclass_1  Pclass_2  Pclass_3  \\\n",
       "0           0  22.0   7.2500            0         0         0         1   \n",
       "1           1  38.0  71.2833            0         1         0         0   \n",
       "2           1  26.0   7.9250            1         0         0         1   \n",
       "3           1  35.0  53.1000            0         1         0         0   \n",
       "4           0  35.0   8.0500            1         0         0         1   \n",
       "..        ...   ...      ...          ...       ...       ...       ...   \n",
       "886         0  27.0  13.0000            1         0         1         0   \n",
       "887         1  19.0  30.0000            1         1         0         0   \n",
       "888         0  28.0  23.4500            0         0         0         1   \n",
       "889         1  26.0  30.0000            1         1         0         0   \n",
       "890         0  32.0   7.7500            1         0         0         1   \n",
       "\n",
       "     Sex_male  Embarked_C  Embarked_Q  Embarked_S  \n",
       "0           1           0           0           1  \n",
       "1           0           1           0           0  \n",
       "2           0           0           0           1  \n",
       "3           0           0           0           1  \n",
       "4           1           0           0           1  \n",
       "..        ...         ...         ...         ...  \n",
       "886         1           0           0           1  \n",
       "887         0           0           0           1  \n",
       "888         0           0           0           1  \n",
       "889         1           1           0           0  \n",
       "890         1           0           1           0  \n",
       "\n",
       "[891 rows x 11 columns]"
      ]
     },
     "execution_count": 15,
     "metadata": {},
     "output_type": "execute_result"
    }
   ],
   "source": [
    "# Encode 'Pclass','Sex','Embarked' features using dummy encoding technique.\n",
    "\n",
    "train_data = pd.get_dummies(df_train,columns=['Pclass','Sex','Embarked'])\n",
    "\n",
    "# Drop PassengerID , Name , Ticket as these features are irrelevant for training purpose.\n",
    "# There is no use for training as these are unique information of a passenger\n",
    "train_data.drop('PassengerId',axis=1,inplace=True)\n",
    "train_data.drop('Name',axis=1,inplace=True)\n",
    "train_data.drop('Ticket',axis=1,inplace=True)\n",
    "\n",
    "# Sex_female column we got after encoding , as sex has only two categories - Male or female\n",
    "# we can remove one of them. if 'sex_male'(which is still in training data) has value 0 it \n",
    "# means This is a female passenger ,if value the This is a Male passenger.\n",
    "train_data.drop('Sex_female',axis=1,inplace=True)\n",
    "\n",
    "final_data = train_data\n",
    "final_data"
   ]
  },
  {
   "cell_type": "code",
   "execution_count": 16,
   "id": "5720b6b5",
   "metadata": {
    "execution": {
     "iopub.execute_input": "2022-12-21T18:25:49.444644Z",
     "iopub.status.busy": "2022-12-21T18:25:49.444221Z",
     "iopub.status.idle": "2022-12-21T18:25:49.459477Z",
     "shell.execute_reply": "2022-12-21T18:25:49.458352Z"
    },
    "papermill": {
     "duration": 0.031283,
     "end_time": "2022-12-21T18:25:49.461908",
     "exception": false,
     "start_time": "2022-12-21T18:25:49.430625",
     "status": "completed"
    },
    "tags": []
   },
   "outputs": [
    {
     "data": {
      "text/html": [
       "<div>\n",
       "<style scoped>\n",
       "    .dataframe tbody tr th:only-of-type {\n",
       "        vertical-align: middle;\n",
       "    }\n",
       "\n",
       "    .dataframe tbody tr th {\n",
       "        vertical-align: top;\n",
       "    }\n",
       "\n",
       "    .dataframe thead th {\n",
       "        text-align: right;\n",
       "    }\n",
       "</style>\n",
       "<table border=\"1\" class=\"dataframe\">\n",
       "  <thead>\n",
       "    <tr style=\"text-align: right;\">\n",
       "      <th></th>\n",
       "      <th>Survived</th>\n",
       "      <th>Age</th>\n",
       "      <th>Fare</th>\n",
       "      <th>TravelAlone</th>\n",
       "      <th>Pclass_1</th>\n",
       "      <th>Pclass_2</th>\n",
       "      <th>Pclass_3</th>\n",
       "      <th>Sex_male</th>\n",
       "      <th>Embarked_C</th>\n",
       "      <th>Embarked_Q</th>\n",
       "      <th>Embarked_S</th>\n",
       "    </tr>\n",
       "  </thead>\n",
       "  <tbody>\n",
       "    <tr>\n",
       "      <th>0</th>\n",
       "      <td>0</td>\n",
       "      <td>22.0</td>\n",
       "      <td>7.2500</td>\n",
       "      <td>0</td>\n",
       "      <td>0</td>\n",
       "      <td>0</td>\n",
       "      <td>1</td>\n",
       "      <td>1</td>\n",
       "      <td>0</td>\n",
       "      <td>0</td>\n",
       "      <td>1</td>\n",
       "    </tr>\n",
       "    <tr>\n",
       "      <th>1</th>\n",
       "      <td>1</td>\n",
       "      <td>38.0</td>\n",
       "      <td>71.2833</td>\n",
       "      <td>0</td>\n",
       "      <td>1</td>\n",
       "      <td>0</td>\n",
       "      <td>0</td>\n",
       "      <td>0</td>\n",
       "      <td>1</td>\n",
       "      <td>0</td>\n",
       "      <td>0</td>\n",
       "    </tr>\n",
       "    <tr>\n",
       "      <th>2</th>\n",
       "      <td>1</td>\n",
       "      <td>26.0</td>\n",
       "      <td>7.9250</td>\n",
       "      <td>1</td>\n",
       "      <td>0</td>\n",
       "      <td>0</td>\n",
       "      <td>1</td>\n",
       "      <td>0</td>\n",
       "      <td>0</td>\n",
       "      <td>0</td>\n",
       "      <td>1</td>\n",
       "    </tr>\n",
       "    <tr>\n",
       "      <th>3</th>\n",
       "      <td>1</td>\n",
       "      <td>35.0</td>\n",
       "      <td>53.1000</td>\n",
       "      <td>0</td>\n",
       "      <td>1</td>\n",
       "      <td>0</td>\n",
       "      <td>0</td>\n",
       "      <td>0</td>\n",
       "      <td>0</td>\n",
       "      <td>0</td>\n",
       "      <td>1</td>\n",
       "    </tr>\n",
       "    <tr>\n",
       "      <th>4</th>\n",
       "      <td>0</td>\n",
       "      <td>35.0</td>\n",
       "      <td>8.0500</td>\n",
       "      <td>1</td>\n",
       "      <td>0</td>\n",
       "      <td>0</td>\n",
       "      <td>1</td>\n",
       "      <td>1</td>\n",
       "      <td>0</td>\n",
       "      <td>0</td>\n",
       "      <td>1</td>\n",
       "    </tr>\n",
       "  </tbody>\n",
       "</table>\n",
       "</div>"
      ],
      "text/plain": [
       "   Survived   Age     Fare  TravelAlone  Pclass_1  Pclass_2  Pclass_3  \\\n",
       "0         0  22.0   7.2500            0         0         0         1   \n",
       "1         1  38.0  71.2833            0         1         0         0   \n",
       "2         1  26.0   7.9250            1         0         0         1   \n",
       "3         1  35.0  53.1000            0         1         0         0   \n",
       "4         0  35.0   8.0500            1         0         0         1   \n",
       "\n",
       "   Sex_male  Embarked_C  Embarked_Q  Embarked_S  \n",
       "0         1           0           0           1  \n",
       "1         0           1           0           0  \n",
       "2         0           0           0           1  \n",
       "3         0           0           0           1  \n",
       "4         1           0           0           1  "
      ]
     },
     "execution_count": 16,
     "metadata": {},
     "output_type": "execute_result"
    }
   ],
   "source": [
    "final_data.head()"
   ]
  },
  {
   "cell_type": "code",
   "execution_count": 17,
   "id": "ae36159b",
   "metadata": {
    "execution": {
     "iopub.execute_input": "2022-12-21T18:25:49.490152Z",
     "iopub.status.busy": "2022-12-21T18:25:49.489699Z",
     "iopub.status.idle": "2022-12-21T18:25:49.497322Z",
     "shell.execute_reply": "2022-12-21T18:25:49.496012Z"
    },
    "papermill": {
     "duration": 0.023936,
     "end_time": "2022-12-21T18:25:49.499795",
     "exception": false,
     "start_time": "2022-12-21T18:25:49.475859",
     "status": "completed"
    },
    "tags": []
   },
   "outputs": [],
   "source": [
    "train_features = ['Age','Fare','TravelAlone','Pclass_1','Pclass_2','Pclass_3','Sex_male','Embarked_C','Embarked_Q','Embarked_S']\n",
    "X = final_data[train_features]\n",
    "Y = final_data['Survived']"
   ]
  },
  {
   "cell_type": "markdown",
   "id": "25dcb183",
   "metadata": {
    "papermill": {
     "duration": 0.011884,
     "end_time": "2022-12-21T18:25:49.523972",
     "exception": false,
     "start_time": "2022-12-21T18:25:49.512088",
     "status": "completed"
    },
    "tags": []
   },
   "source": [
    "# Missing Data Analysis of Test Data "
   ]
  },
  {
   "cell_type": "markdown",
   "id": "a73dbaee",
   "metadata": {
    "papermill": {
     "duration": 0.012278,
     "end_time": "2022-12-21T18:25:49.548301",
     "exception": false,
     "start_time": "2022-12-21T18:25:49.536023",
     "status": "completed"
    },
    "tags": []
   },
   "source": [
    "This Section Just a recap of above step thet we have performed.The only difference is that here we are going to perform analysis on Test Data and previously we preprocess the training data.Just to get a quick revision of preprocessing step on test Data."
   ]
  },
  {
   "cell_type": "code",
   "execution_count": 18,
   "id": "f3bb7405",
   "metadata": {
    "execution": {
     "iopub.execute_input": "2022-12-21T18:25:49.575340Z",
     "iopub.status.busy": "2022-12-21T18:25:49.574666Z",
     "iopub.status.idle": "2022-12-21T18:25:49.589614Z",
     "shell.execute_reply": "2022-12-21T18:25:49.588689Z"
    },
    "papermill": {
     "duration": 0.0308,
     "end_time": "2022-12-21T18:25:49.591811",
     "exception": false,
     "start_time": "2022-12-21T18:25:49.561011",
     "status": "completed"
    },
    "tags": []
   },
   "outputs": [
    {
     "data": {
      "text/html": [
       "<div>\n",
       "<style scoped>\n",
       "    .dataframe tbody tr th:only-of-type {\n",
       "        vertical-align: middle;\n",
       "    }\n",
       "\n",
       "    .dataframe tbody tr th {\n",
       "        vertical-align: top;\n",
       "    }\n",
       "\n",
       "    .dataframe thead th {\n",
       "        text-align: right;\n",
       "    }\n",
       "</style>\n",
       "<table border=\"1\" class=\"dataframe\">\n",
       "  <thead>\n",
       "    <tr style=\"text-align: right;\">\n",
       "      <th></th>\n",
       "      <th>PassengerId</th>\n",
       "      <th>Pclass</th>\n",
       "      <th>Name</th>\n",
       "      <th>Sex</th>\n",
       "      <th>Age</th>\n",
       "      <th>SibSp</th>\n",
       "      <th>Parch</th>\n",
       "      <th>Ticket</th>\n",
       "      <th>Fare</th>\n",
       "      <th>Cabin</th>\n",
       "      <th>Embarked</th>\n",
       "    </tr>\n",
       "  </thead>\n",
       "  <tbody>\n",
       "    <tr>\n",
       "      <th>0</th>\n",
       "      <td>892</td>\n",
       "      <td>3</td>\n",
       "      <td>Kelly, Mr. James</td>\n",
       "      <td>male</td>\n",
       "      <td>34.5</td>\n",
       "      <td>0</td>\n",
       "      <td>0</td>\n",
       "      <td>330911</td>\n",
       "      <td>7.8292</td>\n",
       "      <td>NaN</td>\n",
       "      <td>Q</td>\n",
       "    </tr>\n",
       "    <tr>\n",
       "      <th>1</th>\n",
       "      <td>893</td>\n",
       "      <td>3</td>\n",
       "      <td>Wilkes, Mrs. James (Ellen Needs)</td>\n",
       "      <td>female</td>\n",
       "      <td>47.0</td>\n",
       "      <td>1</td>\n",
       "      <td>0</td>\n",
       "      <td>363272</td>\n",
       "      <td>7.0000</td>\n",
       "      <td>NaN</td>\n",
       "      <td>S</td>\n",
       "    </tr>\n",
       "    <tr>\n",
       "      <th>2</th>\n",
       "      <td>894</td>\n",
       "      <td>2</td>\n",
       "      <td>Myles, Mr. Thomas Francis</td>\n",
       "      <td>male</td>\n",
       "      <td>62.0</td>\n",
       "      <td>0</td>\n",
       "      <td>0</td>\n",
       "      <td>240276</td>\n",
       "      <td>9.6875</td>\n",
       "      <td>NaN</td>\n",
       "      <td>Q</td>\n",
       "    </tr>\n",
       "    <tr>\n",
       "      <th>3</th>\n",
       "      <td>895</td>\n",
       "      <td>3</td>\n",
       "      <td>Wirz, Mr. Albert</td>\n",
       "      <td>male</td>\n",
       "      <td>27.0</td>\n",
       "      <td>0</td>\n",
       "      <td>0</td>\n",
       "      <td>315154</td>\n",
       "      <td>8.6625</td>\n",
       "      <td>NaN</td>\n",
       "      <td>S</td>\n",
       "    </tr>\n",
       "    <tr>\n",
       "      <th>4</th>\n",
       "      <td>896</td>\n",
       "      <td>3</td>\n",
       "      <td>Hirvonen, Mrs. Alexander (Helga E Lindqvist)</td>\n",
       "      <td>female</td>\n",
       "      <td>22.0</td>\n",
       "      <td>1</td>\n",
       "      <td>1</td>\n",
       "      <td>3101298</td>\n",
       "      <td>12.2875</td>\n",
       "      <td>NaN</td>\n",
       "      <td>S</td>\n",
       "    </tr>\n",
       "  </tbody>\n",
       "</table>\n",
       "</div>"
      ],
      "text/plain": [
       "   PassengerId  Pclass                                          Name     Sex  \\\n",
       "0          892       3                              Kelly, Mr. James    male   \n",
       "1          893       3              Wilkes, Mrs. James (Ellen Needs)  female   \n",
       "2          894       2                     Myles, Mr. Thomas Francis    male   \n",
       "3          895       3                              Wirz, Mr. Albert    male   \n",
       "4          896       3  Hirvonen, Mrs. Alexander (Helga E Lindqvist)  female   \n",
       "\n",
       "    Age  SibSp  Parch   Ticket     Fare Cabin Embarked  \n",
       "0  34.5      0      0   330911   7.8292   NaN        Q  \n",
       "1  47.0      1      0   363272   7.0000   NaN        S  \n",
       "2  62.0      0      0   240276   9.6875   NaN        Q  \n",
       "3  27.0      0      0   315154   8.6625   NaN        S  \n",
       "4  22.0      1      1  3101298  12.2875   NaN        S  "
      ]
     },
     "execution_count": 18,
     "metadata": {},
     "output_type": "execute_result"
    }
   ],
   "source": [
    "df_test.head()"
   ]
  },
  {
   "cell_type": "code",
   "execution_count": 19,
   "id": "27932042",
   "metadata": {
    "execution": {
     "iopub.execute_input": "2022-12-21T18:25:49.621065Z",
     "iopub.status.busy": "2022-12-21T18:25:49.620444Z",
     "iopub.status.idle": "2022-12-21T18:25:49.631025Z",
     "shell.execute_reply": "2022-12-21T18:25:49.629303Z"
    },
    "papermill": {
     "duration": 0.029536,
     "end_time": "2022-12-21T18:25:49.634228",
     "exception": false,
     "start_time": "2022-12-21T18:25:49.604692",
     "status": "completed"
    },
    "tags": []
   },
   "outputs": [
    {
     "data": {
      "text/plain": [
       "PassengerId      0\n",
       "Pclass           0\n",
       "Name             0\n",
       "Sex              0\n",
       "Age             86\n",
       "SibSp            0\n",
       "Parch            0\n",
       "Ticket           0\n",
       "Fare             1\n",
       "Cabin          327\n",
       "Embarked         0\n",
       "dtype: int64"
      ]
     },
     "execution_count": 19,
     "metadata": {},
     "output_type": "execute_result"
    }
   ],
   "source": [
    "df_test.isnull().sum()"
   ]
  },
  {
   "cell_type": "code",
   "execution_count": 20,
   "id": "8a7e699f",
   "metadata": {
    "execution": {
     "iopub.execute_input": "2022-12-21T18:25:49.661670Z",
     "iopub.status.busy": "2022-12-21T18:25:49.661214Z",
     "iopub.status.idle": "2022-12-21T18:25:49.669072Z",
     "shell.execute_reply": "2022-12-21T18:25:49.668147Z"
    },
    "papermill": {
     "duration": 0.024623,
     "end_time": "2022-12-21T18:25:49.671565",
     "exception": false,
     "start_time": "2022-12-21T18:25:49.646942",
     "status": "completed"
    },
    "tags": []
   },
   "outputs": [],
   "source": [
    "df_test.drop('Cabin',axis=1,inplace=True)\n",
    "df_test['Age'].fillna(df_test['Age'].median(),inplace=True)\n"
   ]
  },
  {
   "cell_type": "code",
   "execution_count": 21,
   "id": "8761dfe2",
   "metadata": {
    "execution": {
     "iopub.execute_input": "2022-12-21T18:25:49.701939Z",
     "iopub.status.busy": "2022-12-21T18:25:49.701484Z",
     "iopub.status.idle": "2022-12-21T18:25:49.708017Z",
     "shell.execute_reply": "2022-12-21T18:25:49.706890Z"
    },
    "papermill": {
     "duration": 0.02571,
     "end_time": "2022-12-21T18:25:49.710666",
     "exception": false,
     "start_time": "2022-12-21T18:25:49.684956",
     "status": "completed"
    },
    "tags": []
   },
   "outputs": [],
   "source": [
    "df_test['Fare'].fillna(df_test['Fare'].mean(),inplace=True)"
   ]
  },
  {
   "cell_type": "code",
   "execution_count": 22,
   "id": "82286c0e",
   "metadata": {
    "execution": {
     "iopub.execute_input": "2022-12-21T18:25:49.740757Z",
     "iopub.status.busy": "2022-12-21T18:25:49.739832Z",
     "iopub.status.idle": "2022-12-21T18:25:49.751887Z",
     "shell.execute_reply": "2022-12-21T18:25:49.750620Z"
    },
    "papermill": {
     "duration": 0.029205,
     "end_time": "2022-12-21T18:25:49.754375",
     "exception": false,
     "start_time": "2022-12-21T18:25:49.725170",
     "status": "completed"
    },
    "tags": []
   },
   "outputs": [
    {
     "data": {
      "text/plain": [
       "PassengerId    0\n",
       "Pclass         0\n",
       "Name           0\n",
       "Sex            0\n",
       "Age            0\n",
       "SibSp          0\n",
       "Parch          0\n",
       "Ticket         0\n",
       "Fare           0\n",
       "Embarked       0\n",
       "dtype: int64"
      ]
     },
     "execution_count": 22,
     "metadata": {},
     "output_type": "execute_result"
    }
   ],
   "source": [
    "df_test.isnull().sum()"
   ]
  },
  {
   "cell_type": "code",
   "execution_count": 23,
   "id": "419ff91f",
   "metadata": {
    "execution": {
     "iopub.execute_input": "2022-12-21T18:25:49.782603Z",
     "iopub.status.busy": "2022-12-21T18:25:49.782179Z",
     "iopub.status.idle": "2022-12-21T18:25:49.793608Z",
     "shell.execute_reply": "2022-12-21T18:25:49.792629Z"
    },
    "papermill": {
     "duration": 0.0287,
     "end_time": "2022-12-21T18:25:49.796254",
     "exception": false,
     "start_time": "2022-12-21T18:25:49.767554",
     "status": "completed"
    },
    "tags": []
   },
   "outputs": [],
   "source": [
    "df_test['TravelAlone'] = np.where((df_test['SibSp']+df_test['Parch']) > 0, 0,1)\n",
    "df_test.drop('SibSp',axis=1,inplace=True)\n",
    "df_test.drop('Parch',axis=1,inplace=True)"
   ]
  },
  {
   "cell_type": "code",
   "execution_count": 24,
   "id": "af67b16e",
   "metadata": {
    "execution": {
     "iopub.execute_input": "2022-12-21T18:25:49.828902Z",
     "iopub.status.busy": "2022-12-21T18:25:49.827530Z",
     "iopub.status.idle": "2022-12-21T18:25:49.847699Z",
     "shell.execute_reply": "2022-12-21T18:25:49.846727Z"
    },
    "papermill": {
     "duration": 0.039857,
     "end_time": "2022-12-21T18:25:49.850330",
     "exception": false,
     "start_time": "2022-12-21T18:25:49.810473",
     "status": "completed"
    },
    "tags": []
   },
   "outputs": [],
   "source": [
    "test_data = pd.get_dummies(df_test,columns=['Pclass','Sex','Embarked'])\n",
    "test_data.drop('PassengerId',axis=1,inplace=True)\n",
    "test_data.drop('Name',axis=1,inplace=True)\n",
    "test_data.drop('Ticket',axis=1,inplace=True)\n",
    "test_data.drop('Sex_female',axis=1,inplace=True)\n"
   ]
  },
  {
   "cell_type": "code",
   "execution_count": 25,
   "id": "0d144c14",
   "metadata": {
    "execution": {
     "iopub.execute_input": "2022-12-21T18:25:49.881852Z",
     "iopub.status.busy": "2022-12-21T18:25:49.881211Z",
     "iopub.status.idle": "2022-12-21T18:25:49.900700Z",
     "shell.execute_reply": "2022-12-21T18:25:49.899425Z"
    },
    "papermill": {
     "duration": 0.037825,
     "end_time": "2022-12-21T18:25:49.903620",
     "exception": false,
     "start_time": "2022-12-21T18:25:49.865795",
     "status": "completed"
    },
    "tags": []
   },
   "outputs": [
    {
     "data": {
      "text/html": [
       "<div>\n",
       "<style scoped>\n",
       "    .dataframe tbody tr th:only-of-type {\n",
       "        vertical-align: middle;\n",
       "    }\n",
       "\n",
       "    .dataframe tbody tr th {\n",
       "        vertical-align: top;\n",
       "    }\n",
       "\n",
       "    .dataframe thead th {\n",
       "        text-align: right;\n",
       "    }\n",
       "</style>\n",
       "<table border=\"1\" class=\"dataframe\">\n",
       "  <thead>\n",
       "    <tr style=\"text-align: right;\">\n",
       "      <th></th>\n",
       "      <th>Age</th>\n",
       "      <th>Fare</th>\n",
       "      <th>TravelAlone</th>\n",
       "      <th>Pclass_1</th>\n",
       "      <th>Pclass_2</th>\n",
       "      <th>Pclass_3</th>\n",
       "      <th>Sex_male</th>\n",
       "      <th>Embarked_C</th>\n",
       "      <th>Embarked_Q</th>\n",
       "      <th>Embarked_S</th>\n",
       "    </tr>\n",
       "  </thead>\n",
       "  <tbody>\n",
       "    <tr>\n",
       "      <th>0</th>\n",
       "      <td>34.5</td>\n",
       "      <td>7.8292</td>\n",
       "      <td>1</td>\n",
       "      <td>0</td>\n",
       "      <td>0</td>\n",
       "      <td>1</td>\n",
       "      <td>1</td>\n",
       "      <td>0</td>\n",
       "      <td>1</td>\n",
       "      <td>0</td>\n",
       "    </tr>\n",
       "    <tr>\n",
       "      <th>1</th>\n",
       "      <td>47.0</td>\n",
       "      <td>7.0000</td>\n",
       "      <td>0</td>\n",
       "      <td>0</td>\n",
       "      <td>0</td>\n",
       "      <td>1</td>\n",
       "      <td>0</td>\n",
       "      <td>0</td>\n",
       "      <td>0</td>\n",
       "      <td>1</td>\n",
       "    </tr>\n",
       "    <tr>\n",
       "      <th>2</th>\n",
       "      <td>62.0</td>\n",
       "      <td>9.6875</td>\n",
       "      <td>1</td>\n",
       "      <td>0</td>\n",
       "      <td>1</td>\n",
       "      <td>0</td>\n",
       "      <td>1</td>\n",
       "      <td>0</td>\n",
       "      <td>1</td>\n",
       "      <td>0</td>\n",
       "    </tr>\n",
       "    <tr>\n",
       "      <th>3</th>\n",
       "      <td>27.0</td>\n",
       "      <td>8.6625</td>\n",
       "      <td>1</td>\n",
       "      <td>0</td>\n",
       "      <td>0</td>\n",
       "      <td>1</td>\n",
       "      <td>1</td>\n",
       "      <td>0</td>\n",
       "      <td>0</td>\n",
       "      <td>1</td>\n",
       "    </tr>\n",
       "    <tr>\n",
       "      <th>4</th>\n",
       "      <td>22.0</td>\n",
       "      <td>12.2875</td>\n",
       "      <td>0</td>\n",
       "      <td>0</td>\n",
       "      <td>0</td>\n",
       "      <td>1</td>\n",
       "      <td>0</td>\n",
       "      <td>0</td>\n",
       "      <td>0</td>\n",
       "      <td>1</td>\n",
       "    </tr>\n",
       "    <tr>\n",
       "      <th>...</th>\n",
       "      <td>...</td>\n",
       "      <td>...</td>\n",
       "      <td>...</td>\n",
       "      <td>...</td>\n",
       "      <td>...</td>\n",
       "      <td>...</td>\n",
       "      <td>...</td>\n",
       "      <td>...</td>\n",
       "      <td>...</td>\n",
       "      <td>...</td>\n",
       "    </tr>\n",
       "    <tr>\n",
       "      <th>413</th>\n",
       "      <td>27.0</td>\n",
       "      <td>8.0500</td>\n",
       "      <td>1</td>\n",
       "      <td>0</td>\n",
       "      <td>0</td>\n",
       "      <td>1</td>\n",
       "      <td>1</td>\n",
       "      <td>0</td>\n",
       "      <td>0</td>\n",
       "      <td>1</td>\n",
       "    </tr>\n",
       "    <tr>\n",
       "      <th>414</th>\n",
       "      <td>39.0</td>\n",
       "      <td>108.9000</td>\n",
       "      <td>1</td>\n",
       "      <td>1</td>\n",
       "      <td>0</td>\n",
       "      <td>0</td>\n",
       "      <td>0</td>\n",
       "      <td>1</td>\n",
       "      <td>0</td>\n",
       "      <td>0</td>\n",
       "    </tr>\n",
       "    <tr>\n",
       "      <th>415</th>\n",
       "      <td>38.5</td>\n",
       "      <td>7.2500</td>\n",
       "      <td>1</td>\n",
       "      <td>0</td>\n",
       "      <td>0</td>\n",
       "      <td>1</td>\n",
       "      <td>1</td>\n",
       "      <td>0</td>\n",
       "      <td>0</td>\n",
       "      <td>1</td>\n",
       "    </tr>\n",
       "    <tr>\n",
       "      <th>416</th>\n",
       "      <td>27.0</td>\n",
       "      <td>8.0500</td>\n",
       "      <td>1</td>\n",
       "      <td>0</td>\n",
       "      <td>0</td>\n",
       "      <td>1</td>\n",
       "      <td>1</td>\n",
       "      <td>0</td>\n",
       "      <td>0</td>\n",
       "      <td>1</td>\n",
       "    </tr>\n",
       "    <tr>\n",
       "      <th>417</th>\n",
       "      <td>27.0</td>\n",
       "      <td>22.3583</td>\n",
       "      <td>0</td>\n",
       "      <td>0</td>\n",
       "      <td>0</td>\n",
       "      <td>1</td>\n",
       "      <td>1</td>\n",
       "      <td>1</td>\n",
       "      <td>0</td>\n",
       "      <td>0</td>\n",
       "    </tr>\n",
       "  </tbody>\n",
       "</table>\n",
       "<p>418 rows × 10 columns</p>\n",
       "</div>"
      ],
      "text/plain": [
       "      Age      Fare  TravelAlone  Pclass_1  Pclass_2  Pclass_3  Sex_male  \\\n",
       "0    34.5    7.8292            1         0         0         1         1   \n",
       "1    47.0    7.0000            0         0         0         1         0   \n",
       "2    62.0    9.6875            1         0         1         0         1   \n",
       "3    27.0    8.6625            1         0         0         1         1   \n",
       "4    22.0   12.2875            0         0         0         1         0   \n",
       "..    ...       ...          ...       ...       ...       ...       ...   \n",
       "413  27.0    8.0500            1         0         0         1         1   \n",
       "414  39.0  108.9000            1         1         0         0         0   \n",
       "415  38.5    7.2500            1         0         0         1         1   \n",
       "416  27.0    8.0500            1         0         0         1         1   \n",
       "417  27.0   22.3583            0         0         0         1         1   \n",
       "\n",
       "     Embarked_C  Embarked_Q  Embarked_S  \n",
       "0             0           1           0  \n",
       "1             0           0           1  \n",
       "2             0           1           0  \n",
       "3             0           0           1  \n",
       "4             0           0           1  \n",
       "..          ...         ...         ...  \n",
       "413           0           0           1  \n",
       "414           1           0           0  \n",
       "415           0           0           1  \n",
       "416           0           0           1  \n",
       "417           1           0           0  \n",
       "\n",
       "[418 rows x 10 columns]"
      ]
     },
     "execution_count": 25,
     "metadata": {},
     "output_type": "execute_result"
    }
   ],
   "source": [
    "test_data"
   ]
  },
  {
   "cell_type": "code",
   "execution_count": 26,
   "id": "3b2c72f4",
   "metadata": {
    "execution": {
     "iopub.execute_input": "2022-12-21T18:25:49.934818Z",
     "iopub.status.busy": "2022-12-21T18:25:49.933683Z",
     "iopub.status.idle": "2022-12-21T18:25:50.457411Z",
     "shell.execute_reply": "2022-12-21T18:25:50.456170Z"
    },
    "papermill": {
     "duration": 0.541694,
     "end_time": "2022-12-21T18:25:50.460528",
     "exception": false,
     "start_time": "2022-12-21T18:25:49.918834",
     "status": "completed"
    },
    "tags": []
   },
   "outputs": [],
   "source": [
    "from sklearn.linear_model import LogisticRegression\n",
    "from sklearn.model_selection import train_test_split\n",
    "from sklearn.metrics import accuracy_score\n",
    "from sklearn.svm import LinearSVC\n",
    "from sklearn.ensemble import RandomForestClassifier\n",
    "from sklearn.neighbors import KNeighborsClassifier\n",
    "from sklearn.neural_network import MLPClassifier"
   ]
  },
  {
   "cell_type": "code",
   "execution_count": 27,
   "id": "c9388f7c",
   "metadata": {
    "execution": {
     "iopub.execute_input": "2022-12-21T18:25:50.490678Z",
     "iopub.status.busy": "2022-12-21T18:25:50.489984Z",
     "iopub.status.idle": "2022-12-21T18:25:50.496456Z",
     "shell.execute_reply": "2022-12-21T18:25:50.495618Z"
    },
    "papermill": {
     "duration": 0.024416,
     "end_time": "2022-12-21T18:25:50.499256",
     "exception": false,
     "start_time": "2022-12-21T18:25:50.474840",
     "status": "completed"
    },
    "tags": []
   },
   "outputs": [],
   "source": [
    "x_train,x_test,y_train,y_test = train_test_split(X,Y,test_size=0.2,random_state=0)"
   ]
  },
  {
   "cell_type": "code",
   "execution_count": 28,
   "id": "91c3efeb",
   "metadata": {
    "execution": {
     "iopub.execute_input": "2022-12-21T18:25:50.527677Z",
     "iopub.status.busy": "2022-12-21T18:25:50.526727Z",
     "iopub.status.idle": "2022-12-21T18:25:50.611416Z",
     "shell.execute_reply": "2022-12-21T18:25:50.610404Z"
    },
    "papermill": {
     "duration": 0.101686,
     "end_time": "2022-12-21T18:25:50.614014",
     "exception": false,
     "start_time": "2022-12-21T18:25:50.512328",
     "status": "completed"
    },
    "tags": []
   },
   "outputs": [
    {
     "data": {
      "text/plain": [
       "0.8100558659217877"
      ]
     },
     "execution_count": 28,
     "metadata": {},
     "output_type": "execute_result"
    }
   ],
   "source": [
    "reg_log = LogisticRegression(solver='lbfgs', max_iter=1000)\n",
    "reg_log.fit(x_train,y_train)\n",
    "log_pred = reg_log.predict(x_test)\n",
    "accuracy_score(y_test,log_pred)"
   ]
  },
  {
   "cell_type": "code",
   "execution_count": 29,
   "id": "285f7fe8",
   "metadata": {
    "execution": {
     "iopub.execute_input": "2022-12-21T18:25:50.643814Z",
     "iopub.status.busy": "2022-12-21T18:25:50.642975Z",
     "iopub.status.idle": "2022-12-21T18:25:50.702956Z",
     "shell.execute_reply": "2022-12-21T18:25:50.700879Z"
    },
    "papermill": {
     "duration": 0.077625,
     "end_time": "2022-12-21T18:25:50.705642",
     "exception": false,
     "start_time": "2022-12-21T18:25:50.628017",
     "status": "completed"
    },
    "tags": []
   },
   "outputs": [
    {
     "name": "stderr",
     "output_type": "stream",
     "text": [
      "/opt/conda/lib/python3.7/site-packages/sklearn/svm/_base.py:1208: ConvergenceWarning: Liblinear failed to converge, increase the number of iterations.\n",
      "  ConvergenceWarning,\n"
     ]
    },
    {
     "data": {
      "text/plain": [
       "0.5586592178770949"
      ]
     },
     "execution_count": 29,
     "metadata": {},
     "output_type": "execute_result"
    }
   ],
   "source": [
    "reg_svc = LinearSVC()\n",
    "reg_svc.fit(x_train,y_train)\n",
    "svm_pred = reg_svc.predict(x_test)\n",
    "accuracy_score(y_test,svm_pred)"
   ]
  },
  {
   "cell_type": "code",
   "execution_count": 30,
   "id": "c2c35c7b",
   "metadata": {
    "execution": {
     "iopub.execute_input": "2022-12-21T18:25:50.735823Z",
     "iopub.status.busy": "2022-12-21T18:25:50.735432Z",
     "iopub.status.idle": "2022-12-21T18:25:50.976469Z",
     "shell.execute_reply": "2022-12-21T18:25:50.975016Z"
    },
    "papermill": {
     "duration": 0.259048,
     "end_time": "2022-12-21T18:25:50.979289",
     "exception": false,
     "start_time": "2022-12-21T18:25:50.720241",
     "status": "completed"
    },
    "tags": []
   },
   "outputs": [
    {
     "data": {
      "text/plain": [
       "0.8603351955307262"
      ]
     },
     "execution_count": 30,
     "metadata": {},
     "output_type": "execute_result"
    }
   ],
   "source": [
    "reg_rand = RandomForestClassifier(n_estimators=100)\n",
    "reg_rand.fit(x_train,y_train)\n",
    "rf_pred = reg_rand.predict(x_test)\n",
    "accuracy_score(rf_pred,y_test)"
   ]
  },
  {
   "cell_type": "code",
   "execution_count": 31,
   "id": "25187cc1",
   "metadata": {
    "execution": {
     "iopub.execute_input": "2022-12-21T18:25:51.011558Z",
     "iopub.status.busy": "2022-12-21T18:25:51.010007Z",
     "iopub.status.idle": "2022-12-21T18:25:51.027231Z",
     "shell.execute_reply": "2022-12-21T18:25:51.026006Z"
    },
    "papermill": {
     "duration": 0.036816,
     "end_time": "2022-12-21T18:25:51.029873",
     "exception": false,
     "start_time": "2022-12-21T18:25:50.993057",
     "status": "completed"
    },
    "tags": []
   },
   "outputs": [
    {
     "data": {
      "text/plain": [
       "0.7541899441340782"
      ]
     },
     "execution_count": 31,
     "metadata": {},
     "output_type": "execute_result"
    }
   ],
   "source": [
    "reg_KNN = KNeighborsClassifier(n_neighbors=9,weights='distance')\n",
    "reg_KNN.fit(x_train,y_train)\n",
    "knn_pred = reg_KNN.predict(x_test)\n",
    "accuracy_score(y_test,knn_pred)"
   ]
  },
  {
   "cell_type": "code",
   "execution_count": 32,
   "id": "7f7e4a13",
   "metadata": {
    "execution": {
     "iopub.execute_input": "2022-12-21T18:25:51.061327Z",
     "iopub.status.busy": "2022-12-21T18:25:51.060412Z",
     "iopub.status.idle": "2022-12-21T18:25:52.355712Z",
     "shell.execute_reply": "2022-12-21T18:25:52.354520Z"
    },
    "papermill": {
     "duration": 1.313715,
     "end_time": "2022-12-21T18:25:52.358207",
     "exception": false,
     "start_time": "2022-12-21T18:25:51.044492",
     "status": "completed"
    },
    "tags": []
   },
   "outputs": [
    {
     "data": {
      "text/plain": [
       "0.8156424581005587"
      ]
     },
     "execution_count": 32,
     "metadata": {},
     "output_type": "execute_result"
    }
   ],
   "source": [
    "mlp = MLPClassifier(hidden_layer_sizes=(11,11,11), activation='relu', solver='adam', max_iter=500)\n",
    "mlp.fit(x_train,y_train)\n",
    "\n",
    "mlp_pred = mlp.predict(x_test)\n",
    "accuracy_score(y_test,mlp_pred)"
   ]
  },
  {
   "cell_type": "code",
   "execution_count": 33,
   "id": "8eca15e0",
   "metadata": {
    "execution": {
     "iopub.execute_input": "2022-12-21T18:25:52.389366Z",
     "iopub.status.busy": "2022-12-21T18:25:52.388851Z",
     "iopub.status.idle": "2022-12-21T18:25:52.419157Z",
     "shell.execute_reply": "2022-12-21T18:25:52.417929Z"
    },
    "papermill": {
     "duration": 0.04991,
     "end_time": "2022-12-21T18:25:52.422326",
     "exception": false,
     "start_time": "2022-12-21T18:25:52.372416",
     "status": "completed"
    },
    "tags": []
   },
   "outputs": [],
   "source": [
    "final_pred = reg_rand.predict(test_data)\n"
   ]
  },
  {
   "cell_type": "code",
   "execution_count": 34,
   "id": "bb796c33",
   "metadata": {
    "execution": {
     "iopub.execute_input": "2022-12-21T18:25:52.451855Z",
     "iopub.status.busy": "2022-12-21T18:25:52.451435Z",
     "iopub.status.idle": "2022-12-21T18:25:52.461768Z",
     "shell.execute_reply": "2022-12-21T18:25:52.460633Z"
    },
    "papermill": {
     "duration": 0.027994,
     "end_time": "2022-12-21T18:25:52.464390",
     "exception": false,
     "start_time": "2022-12-21T18:25:52.436396",
     "status": "completed"
    },
    "tags": []
   },
   "outputs": [],
   "source": [
    "output = pd.DataFrame({\n",
    "    \"PassengerId\" : df_test['PassengerId'],\n",
    "    \"Survived\" : final_pred\n",
    "})\n",
    "output.to_csv('submission.csv',index=False)"
   ]
  }
 ],
 "metadata": {
  "kernelspec": {
   "display_name": "Python 3",
   "language": "python",
   "name": "python3"
  },
  "language_info": {
   "codemirror_mode": {
    "name": "ipython",
    "version": 3
   },
   "file_extension": ".py",
   "mimetype": "text/x-python",
   "name": "python",
   "nbconvert_exporter": "python",
   "pygments_lexer": "ipython3",
   "version": "3.7.12"
  },
  "papermill": {
   "default_parameters": {},
   "duration": 16.438918,
   "end_time": "2022-12-21T18:25:53.300536",
   "environment_variables": {},
   "exception": null,
   "input_path": "__notebook__.ipynb",
   "output_path": "__notebook__.ipynb",
   "parameters": {},
   "start_time": "2022-12-21T18:25:36.861618",
   "version": "2.3.4"
  }
 },
 "nbformat": 4,
 "nbformat_minor": 5
}
