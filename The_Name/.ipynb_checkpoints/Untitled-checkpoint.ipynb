{
 "cells": [
  {
   "cell_type": "markdown",
   "id": "5921bfc6",
   "metadata": {},
   "source": [
    "# The Name\n",
    "\n",
    "Choose a name in Polish list of names that does not contain ł, cz, sz, rz, w, etc. "
   ]
  },
  {
   "cell_type": "code",
   "execution_count": 2,
   "id": "f16b4b65",
   "metadata": {},
   "outputs": [],
   "source": [
    "import requests\n",
    "from bs4 import BeautifulSoup\n",
    "import pandas as pd"
   ]
  },
  {
   "cell_type": "markdown",
   "id": "ba79d28a",
   "metadata": {},
   "source": [
    "## Data Scrapping"
   ]
  },
  {
   "cell_type": "code",
   "execution_count": null,
   "id": "071e6e5c",
   "metadata": {},
   "outputs": [],
   "source": [
    "url = 'https://nazwiska.ijp.pan.pl/?'\n",
    "\n",
    "# Make a request\n",
    "response = requests.get(url)\n",
    "\n"
   ]
  },
  {
   "cell_type": "code",
   "execution_count": null,
   "id": "6e6af161",
   "metadata": {},
   "outputs": [],
   "source": [
    "## Data Mining\n"
   ]
  }
 ],
 "metadata": {
  "kernelspec": {
   "display_name": "Python 3 (ipykernel)",
   "language": "python",
   "name": "python3"
  },
  "language_info": {
   "codemirror_mode": {
    "name": "ipython",
    "version": 3
   },
   "file_extension": ".py",
   "mimetype": "text/x-python",
   "name": "python",
   "nbconvert_exporter": "python",
   "pygments_lexer": "ipython3",
   "version": "3.9.12"
  }
 },
 "nbformat": 4,
 "nbformat_minor": 5
}
