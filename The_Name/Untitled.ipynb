{
 "cells": [
  {
   "cell_type": "markdown",
   "id": "24aacb69",
   "metadata": {},
   "source": [
    "# The Name\n",
    "\n",
    "Choose a name in Polish list of names that does not contain ł, cz, sz, rz, w, etc. "
   ]
  },
  {
   "cell_type": "code",
   "execution_count": 1,
   "id": "7da2efe4",
   "metadata": {},
   "outputs": [],
   "source": [
    "import pandas as pd\n",
    "import requests\n",
    "from bs4 import BeautifulSoup"
   ]
  },
  {
   "cell_type": "markdown",
   "id": "8c661503",
   "metadata": {},
   "source": [
    "## Data Scrapping"
   ]
  },
  {
   "cell_type": "code",
   "execution_count": 2,
   "id": "55c77cc8",
   "metadata": {},
   "outputs": [
    {
     "name": "stdout",
     "output_type": "stream",
     "text": [
      "Empty DataFrame\n",
      "Columns: [Names]\n",
      "Index: []\n"
     ]
    }
   ],
   "source": [
    "url = 'https://nazwiska.ijp.pan.pl/?'  # replace with your URL\n",
    "\n",
    "# Make a request\n",
    "response = requests.get(url)\n",
    "\n",
    "# Parse the content\n",
    "soup = BeautifulSoup(response.text, 'html.parser')\n",
    "\n",
    "# Find the names on the page. This step will vary greatly depending on the structure of the webpage.\n",
    "# As an example, I'm assuming names are inside `div` tags with class `name`.\n",
    "\n",
    "name_tags = soup.find_all('div', class_='sorting_1')  # replace 'div' and 'name' with the actual tag and class\n",
    "\n",
    "# Extract the actual names from the name_tags\n",
    "names = [tag.text for tag in name_tags]\n",
    "\n",
    "# Convert the list of names into a DataFrame\n",
    "df = pd.DataFrame(names, columns=['Names'])\n",
    "\n",
    "# Save the DataFrame to a .csv file\n",
    "df.to_csv('names.csv', index=False)\n",
    "\n",
    "print(df)"
   ]
  },
  {
   "cell_type": "code",
   "execution_count": null,
   "id": "d1a58c59",
   "metadata": {},
   "outputs": [],
   "source": [
    "## Data Mining\n"
   ]
  }
 ],
 "metadata": {
  "kernelspec": {
   "display_name": "Python 3 (ipykernel)",
   "language": "python",
   "name": "python3"
  },
  "language_info": {
   "codemirror_mode": {
    "name": "ipython",
    "version": 3
   },
   "file_extension": ".py",
   "mimetype": "text/x-python",
   "name": "python",
   "nbconvert_exporter": "python",
   "pygments_lexer": "ipython3",
   "version": "3.9.12"
  }
 },
 "nbformat": 4,
 "nbformat_minor": 5
}
